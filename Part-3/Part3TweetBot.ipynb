{
 "cells": [
  {
   "cell_type": "code",
   "execution_count": null,
   "metadata": {},
   "outputs": [],
   "source": []
  },
  {
   "cell_type": "code",
   "execution_count": null,
   "metadata": {},
   "outputs": [],
   "source": [
    "import os\n",
    "import sys\n",
    "%matplotlib notebook\n",
    "%matplotlib inline"
   ]
  },
  {
   "cell_type": "code",
   "execution_count": null,
   "metadata": {},
   "outputs": [],
   "source": [
    "sys.path.insert(0, 'C:/Users/Aaron/Documents')"
   ]
  },
  {
   "cell_type": "code",
   "execution_count": null,
   "metadata": {},
   "outputs": [],
   "source": [
    "import matplotlib.pyplot as plt\n",
    "import tweepy\n",
    "import numpy as np\n",
    "import pandas as pd\n",
    "import datetime\n",
    "import time\n",
    "from pytz import timezone\n",
    "now = datetime.datetime.now()\n",
    "east = timezone('US/Eastern')\n",
    "\n",
    "# Import and Initialize Sentiment Analyzer\n",
    "from vaderSentiment.vaderSentiment import SentimentIntensityAnalyzer\n",
    "analyzer = SentimentIntensityAnalyzer()\n",
    "\n",
    "# Twitter API Keys\n",
    "from config import TW_consumer_key2, TW_consumer_skey2, TW_access_token2, TW_access_stoken2\n",
    "\n",
    "# # Setup Tweepy API Authentication\n",
    "auth = tweepy.OAuthHandler(TW_consumer_key2, TW_consumer_skey2)\n",
    "auth.set_access_token(TW_access_token2, TW_access_stoken2)\n",
    "api = tweepy.API(auth, parser=tweepy.parsers.JSONParser())"
   ]
  },
  {
   "cell_type": "code",
   "execution_count": null,
   "metadata": {},
   "outputs": [],
   "source": [
    "analyzed = []"
   ]
  },
  {
   "cell_type": "code",
   "execution_count": null,
   "metadata": {},
   "outputs": [],
   "source": [
    "def get_user():\n",
    "    mention_tweets = api.mentions_timeline(count=5)\n",
    "    if \"sentiment\" in mention_tweets[0]['text']:\n",
    "        x = mention_tweets[0]['entities']['user_mentions'][1]['screen_name']\n",
    "        y = [sub['user'] for sub in analyzed]\n",
    "        if x in y:\n",
    "            print('user not in analyzed')\n",
    "            user_index = next((index for (index, d) in enumerate(analyzed) if d[\"user\"] == x))\n",
    "            date1 = analyzed[user_index]['tweet_date']\n",
    "            date2 = datetime.datetime.strptime(date1, '%a %b %d %H:%M:%S %z %Y').strftime('%m/%d/%Y %H:%M')\n",
    "            date3 = (now.strftime(\"%m/%d/%Y %H:%M:%S\"))\n",
    "            datepy1= pd.to_datetime(date2)\n",
    "            datepy2= pd.to_datetime(date3)\n",
    "            delta = datepy1-datepy2\n",
    "            try:\n",
    "                api.update_status(f\"@{x} previously analyzed {delta} ago.\")\n",
    "                print(f\"@{x} previously analyzed {delta} ago and posted to Twitter\")\n",
    "                return \"\"\n",
    "            except:\n",
    "                print(f\"@{x} previously analyzed {delta} ago and not posted to Twitter again\")\n",
    "                return \"\"\n",
    "        else:\n",
    "            analyzed.append({'user':x,\n",
    "                             'tweet_date':mention_tweets[0]['created_at']})\n",
    "            print('user not in analyzed')\n",
    "            return mention_tweets[0]['entities']['user_mentions'][1]['screen_name']\n",
    "    else:\n",
    "        pass"
   ]
  },
  {
   "cell_type": "code",
   "execution_count": null,
   "metadata": {},
   "outputs": [],
   "source": [
    "# Target User Accounts\n",
    "def get_tweets(usern):\n",
    "    target_user = usern\n",
    "    mention_tweets2 = api.mentions_timeline(count=5)\n",
    "    requestor = mention_tweets2[0]['user']['name']\n",
    "    if target_user != \"\":\n",
    "        # List for dictionaries of results\n",
    "        results_list = []\n",
    "        compound_list = []\n",
    "        positive_list = []\n",
    "        negative_list = []\n",
    "        neutral_list = []\n",
    "        screenname = []\n",
    "        tweettext= []\n",
    "        tweetdate = []\n",
    "        tweetnumber = []\n",
    "\n",
    "        # Loop through each user\n",
    "        #for user in target_user:\n",
    "        count=0\n",
    "        # Loop through 5 pages of tweets (total 100 tweets)\n",
    "        for x in range(1, 26):\n",
    "\n",
    "            # Get all tweets from home feed\n",
    "            public_tweets = api.user_timeline(target_user, page=x)\n",
    "\n",
    "            # Loop through all tweets\n",
    "            for tweet in public_tweets:\n",
    "                # Run Vader Analysis on each tweet\n",
    "                results = analyzer.polarity_scores(tweet[\"text\"])\n",
    "                compound = results[\"compound\"]\n",
    "                pos = results[\"pos\"]\n",
    "                neu = results[\"neu\"]\n",
    "                neg = results[\"neg\"]\n",
    "\n",
    "                # Add each value to the appropriate list\n",
    "                compound_list.append(compound)\n",
    "                positive_list.append(pos)\n",
    "                negative_list.append(neg)\n",
    "                neutral_list.append(neu)\n",
    "                screenname.append(tweet[\"user\"][\"screen_name\"])\n",
    "                tweettext.append(tweet[\"text\"])\n",
    "                tweetdate.append(tweet[\"created_at\"])\n",
    "                count=count-1\n",
    "                tweetnumber.append(count)\n",
    "\n",
    "            # Create a dictionaty of results\n",
    "        user_results = {\n",
    "            \"Screen Name\": screenname,\n",
    "            \"Date\": tweetdate,\n",
    "            \"Tweet Text\": tweettext,\n",
    "            \"Compound Score\": compound_list,\n",
    "            \"Postive Score\": positive_list,\n",
    "            \"Neutral Score\": neutral_list,\n",
    "            \"Negative Score\": negative_list,\n",
    "            \"Tweet Number\": tweetnumber\n",
    "        }\n",
    "\n",
    "        results_df = pd.DataFrame.from_dict(user_results).round(3)\n",
    "\n",
    "        tweetline = results_df.plot(x='Tweet Number', y='Compound Score', marker ='.',\n",
    "                                    markersize=10, color='blue', label=f'@{target_user}',\n",
    "                                    linewidth=.5)\n",
    "\n",
    "        tweetline.legend(bbox_to_anchor=(1, 1), frameon=False, title=\"Tweets by\")\n",
    "        tweetline.set_ylabel('Tweet Polarity')\n",
    "        tweetline.set_xlabel('Tweets Ago')\n",
    "        tweetline.set_title(f\"Sentiment Analysis of Tweets ({now.strftime('%m/%d/%Y')})\")\n",
    "        tweetline.yaxis.grid(True)\n",
    "        plt.autoscale(enable=True, axis='x')\n",
    "        plt.savefig(\"Images/Tweets.png\", bbox_inches='tight')\n",
    "        plt.show()\n",
    "        try:\n",
    "            #return api.update_with_media('Images/Tweets.png',f\"Tweet Analysis for @{target_user}\")\n",
    "            return api.update_with_media('Images/Tweets.png',f\"Tweet Analysis for @{target_user}, requested by @{requestor}\")\n",
    "        except:\n",
    "            print(\"Plot already sent to twitter, nothing new posted\")\n",
    "    else:\n",
    "        print(\"Nothing plotted to Twitter\")\n"
   ]
  },
  {
   "cell_type": "code",
   "execution_count": null,
   "metadata": {},
   "outputs": [],
   "source": [
    "while(True):\n",
    "    get_tweets(get_user())\n",
    "    time.sleep(60)"
   ]
  },
  {
   "cell_type": "code",
   "execution_count": null,
   "metadata": {},
   "outputs": [],
   "source": []
  },
  {
   "cell_type": "code",
   "execution_count": null,
   "metadata": {},
   "outputs": [],
   "source": [
    "#mention_tweets = api.mentions_timeline(count=20)\n",
    "#mention_tweets\n",
    "#mention_tweets[0]['entities']['user_mentions'][1]['screen_name']\n",
    "# mention_tweets[0]['in_reply_to_screen_name']\n",
    "#mention_tweets[0]['user']['name']"
   ]
  },
  {
   "cell_type": "code",
   "execution_count": null,
   "metadata": {},
   "outputs": [],
   "source": []
  }
 ],
 "metadata": {
  "kernelspec": {
   "display_name": "Python 3",
   "language": "python",
   "name": "python3"
  },
  "language_info": {
   "codemirror_mode": {
    "name": "ipython",
    "version": 3
   },
   "file_extension": ".py",
   "mimetype": "text/x-python",
   "name": "python",
   "nbconvert_exporter": "python",
   "pygments_lexer": "ipython3",
   "version": "3.7.3"
  },
  "varInspector": {
   "cols": {
    "lenName": 16,
    "lenType": 16,
    "lenVar": 40
   },
   "kernels_config": {
    "python": {
     "delete_cmd_postfix": "",
     "delete_cmd_prefix": "del ",
     "library": "var_list.py",
     "varRefreshCmd": "print(var_dic_list())"
    },
    "r": {
     "delete_cmd_postfix": ") ",
     "delete_cmd_prefix": "rm(",
     "library": "var_list.r",
     "varRefreshCmd": "cat(var_dic_list()) "
    }
   },
   "types_to_exclude": [
    "module",
    "function",
    "builtin_function_or_method",
    "instance",
    "_Feature"
   ],
   "window_display": false
  }
 },
 "nbformat": 4,
 "nbformat_minor": 2
}
